{
 "cells": [
  {
   "cell_type": "code",
   "execution_count": 14,
   "id": "caecc2ec",
   "metadata": {},
   "outputs": [],
   "source": [
    "import cv2\n",
    "\n",
    "# Load Haar Cascade model\n",
    "face_cascade = cv2.CascadeClassifier(cv2.data.haarcascades + \"haarcascade_frontalface_default.xml\")\n",
    "\n",
    "def detect_face(img):\n",
    "    \"\"\"Detects faces in an image using Haar Cascade classifier.\n",
    "    This function takes an image as input and returns the coordinates of detected faces.\n",
    "    Args:\n",
    "        img (_type_): Ảnh chứa khuôn mặt cần phát hiện.\n",
    "    Returns:\n",
    "        List: Chứa các tọa độ của khuôn mặt được phát hiện trong định dạng (x, y, w, h).\n",
    "    \"\"\"\n",
    "    gray = cv2.cvtColor(img, cv2.COLOR_BGR2GRAY)\n",
    "    faces = face_cascade.detectMultiScale(gray, scaleFactor=1.1, minNeighbors=5)\n",
    "    return faces  # List of (x, y, w, h)\n",
    "\n",
    "def crop_and_preprocess_face(img, face):\n",
    "    \"\"\"_summary_\n",
    "    Args:\n",
    "        img (.jpeg): Ảnh gốc ban đầu.\n",
    "        face (List): Tọa độ khuôn mặt GẦN NHẤT được phát hiện trong định dạng (x, y, w, h).\n",
    "    Returns:\n",
    "        img (.jpeg): Ảnh khuôn mặt đã được cắt và tiền xử lý.\n",
    "    \"\"\"\n",
    "    x, y, w, h = face\n",
    "    face_img = img[y:y+h, x:x+w]\n",
    "    face_img = cv2.resize(face_img, (160, 160))  # chuẩn cho model như FaceNet\n",
    "    face_img = face_img.astype('float32') / 255.0  # normalize\n",
    "    return face_img"
   ]
  },
  {
   "cell_type": "code",
   "execution_count": 15,
   "id": "d62ed70c",
   "metadata": {},
   "outputs": [
    {
     "data": {
      "text/plain": [
       "-1"
      ]
     },
     "execution_count": 15,
     "metadata": {},
     "output_type": "execute_result"
    }
   ],
   "source": [
    "# Đọc ảnh\n",
    "img = cv2.imread(\"data/pictures/11222333/frame_0418.jpg\")\n",
    "\n",
    "face = detect_face(img)\n",
    "# Lấy khuôn mặt có kích thước ảnh lớn nhất\n",
    "largest_face = max(face, key=lambda f: f[2] * f[3])  # Tìm khuôn mặt có diện tích lớn nhất\n",
    "face_img = crop_and_preprocess_face(img, largest_face)\n",
    "# show ảnh\n",
    "cv2.imshow(\"Face\", face_img)\n",
    "cv2.waitKey(0)"
   ]
  }
 ],
 "metadata": {
  "kernelspec": {
   "display_name": "face_env",
   "language": "python",
   "name": "python3"
  },
  "language_info": {
   "codemirror_mode": {
    "name": "ipython",
    "version": 3
   },
   "file_extension": ".py",
   "mimetype": "text/x-python",
   "name": "python",
   "nbconvert_exporter": "python",
   "pygments_lexer": "ipython3",
   "version": "3.10.16"
  }
 },
 "nbformat": 4,
 "nbformat_minor": 5
}
