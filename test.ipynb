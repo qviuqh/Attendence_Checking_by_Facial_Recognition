{
 "cells": [
  {
   "cell_type": "code",
   "execution_count": 1,
   "id": "f4aed344",
   "metadata": {},
   "outputs": [],
   "source": [
    "from src import preprocessing as prep\n",
    "from src import feature_engineering as fe\n",
    "import cv2\n",
    "import json\n",
    "import wandb"
   ]
  },
  {
   "cell_type": "code",
   "execution_count": 2,
   "id": "cb369b9a",
   "metadata": {},
   "outputs": [
    {
     "data": {
      "text/plain": [
       "{'11222333': 'Nguyễn Minh Hiếu',\n",
       " '11225430': 'Lâm Minh Quang',\n",
       " '11226754': 'Nguyễn Thanh Tùng',\n",
       " '11226767': 'Phan Đại Tùng',\n",
       " '11226938': 'Thân Quang Vinh'}"
      ]
     },
     "execution_count": 2,
     "metadata": {},
     "output_type": "execute_result"
    }
   ],
   "source": [
    "with open('data\\students.json', 'r') as f:\n",
    "    data = json.load(f)\n",
    "\n",
    "data"
   ]
  },
  {
   "cell_type": "code",
   "execution_count": 4,
   "id": "b698d2a0",
   "metadata": {},
   "outputs": [
    {
     "data": {
      "text/html": [
       "Finishing previous runs because reinit is set to 'default'."
      ],
      "text/plain": [
       "<IPython.core.display.HTML object>"
      ]
     },
     "metadata": {},
     "output_type": "display_data"
    },
    {
     "name": "stderr",
     "output_type": "stream",
     "text": [
      "\u001b[34m\u001b[1mwandb\u001b[0m: \u001b[32m\u001b[41mERROR\u001b[0m The nbformat package was not found. It is required to save notebook history.\n"
     ]
    },
    {
     "data": {
      "text/html": [],
      "text/plain": [
       "<IPython.core.display.HTML object>"
      ]
     },
     "metadata": {},
     "output_type": "display_data"
    },
    {
     "data": {
      "text/html": [
       " View run <strong style=\"color:#cdcd00\">forgotten-ewok-460</strong> at: <a href='https://wandb.ai/thanvinh164-vinh/attendance_face_recognition/runs/h1v2kdyg' target=\"_blank\">https://wandb.ai/thanvinh164-vinh/attendance_face_recognition/runs/h1v2kdyg</a><br> View project at: <a href='https://wandb.ai/thanvinh164-vinh/attendance_face_recognition' target=\"_blank\">https://wandb.ai/thanvinh164-vinh/attendance_face_recognition</a><br>Synced 5 W&B file(s), 0 media file(s), 2 artifact file(s) and 0 other file(s)"
      ],
      "text/plain": [
       "<IPython.core.display.HTML object>"
      ]
     },
     "metadata": {},
     "output_type": "display_data"
    },
    {
     "data": {
      "text/html": [
       "Find logs at: <code>.\\wandb\\run-20250504_233816-h1v2kdyg\\logs</code>"
      ],
      "text/plain": [
       "<IPython.core.display.HTML object>"
      ]
     },
     "metadata": {},
     "output_type": "display_data"
    },
    {
     "data": {
      "text/html": [
       "creating run (0.0s)"
      ],
      "text/plain": [
       "<IPython.core.display.HTML object>"
      ]
     },
     "metadata": {},
     "output_type": "display_data"
    },
    {
     "data": {
      "text/html": [
       "Tracking run with wandb version 0.19.10"
      ],
      "text/plain": [
       "<IPython.core.display.HTML object>"
      ]
     },
     "metadata": {},
     "output_type": "display_data"
    },
    {
     "data": {
      "text/html": [
       "Run data is saved locally in <code>d:\\Documents\\Text Book\\3\\ML Ops\\Final Project\\Attendence_Checking_by_Facial_Recognition\\wandb\\run-20250504_233918-v7l2xhy4</code>"
      ],
      "text/plain": [
       "<IPython.core.display.HTML object>"
      ]
     },
     "metadata": {},
     "output_type": "display_data"
    },
    {
     "data": {
      "text/html": [
       "Syncing run <strong><a href='https://wandb.ai/thanvinh164-vinh/attendance_face_recognition/runs/v7l2xhy4' target=\"_blank\">ancient-lightsaber-461</a></strong> to <a href='https://wandb.ai/thanvinh164-vinh/attendance_face_recognition' target=\"_blank\">Weights & Biases</a> (<a href='https://wandb.me/developer-guide' target=\"_blank\">docs</a>)<br>"
      ],
      "text/plain": [
       "<IPython.core.display.HTML object>"
      ]
     },
     "metadata": {},
     "output_type": "display_data"
    },
    {
     "data": {
      "text/html": [
       " View project at <a href='https://wandb.ai/thanvinh164-vinh/attendance_face_recognition' target=\"_blank\">https://wandb.ai/thanvinh164-vinh/attendance_face_recognition</a>"
      ],
      "text/plain": [
       "<IPython.core.display.HTML object>"
      ]
     },
     "metadata": {},
     "output_type": "display_data"
    },
    {
     "data": {
      "text/html": [
       " View run at <a href='https://wandb.ai/thanvinh164-vinh/attendance_face_recognition/runs/v7l2xhy4' target=\"_blank\">https://wandb.ai/thanvinh164-vinh/attendance_face_recognition/runs/v7l2xhy4</a>"
      ],
      "text/plain": [
       "<IPython.core.display.HTML object>"
      ]
     },
     "metadata": {},
     "output_type": "display_data"
    },
    {
     "data": {
      "text/plain": [
       "<Artifact students.json>"
      ]
     },
     "execution_count": 4,
     "metadata": {},
     "output_type": "execute_result"
    }
   ],
   "source": [
    "wandb.init(project=\"attendance_face_recognition\")\n",
    "\n",
    "artifact = wandb.Artifact(name=\"students.json\", type=\"data\")\n",
    "# Add or update the file\n",
    "artifact.add_file(\"data/students.json\")\n",
    "\n",
    "# Log the artifact\n",
    "wandb.log_artifact(artifact)"
   ]
  }
 ],
 "metadata": {
  "kernelspec": {
   "display_name": "face_env",
   "language": "python",
   "name": "python3"
  },
  "language_info": {
   "codemirror_mode": {
    "name": "ipython",
    "version": 3
   },
   "file_extension": ".py",
   "mimetype": "text/x-python",
   "name": "python",
   "nbconvert_exporter": "python",
   "pygments_lexer": "ipython3",
   "version": "3.10.16"
  }
 },
 "nbformat": 4,
 "nbformat_minor": 5
}
