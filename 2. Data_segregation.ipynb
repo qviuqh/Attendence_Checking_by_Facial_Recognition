{
 "cells": [
  {
   "cell_type": "code",
   "execution_count": 1,
   "id": "1985db64",
   "metadata": {},
   "outputs": [],
   "source": [
    "import logging\n",
    "import tempfile\n",
    "import pandas as pd\n",
    "import os\n",
    "import wandb\n",
    "from sklearn.model_selection import train_test_split"
   ]
  },
  {
   "cell_type": "code",
   "execution_count": 2,
   "id": "1916ad1e",
   "metadata": {},
   "outputs": [],
   "source": [
    "import os\n",
    "from dotenv import load_dotenv\n",
    "load_dotenv()\n",
    "\n",
    "WANDB_API_KEY=os.environ.get('WANDB_API_KEY')"
   ]
  },
  {
   "cell_type": "code",
   "execution_count": 3,
   "id": "1a5298d4",
   "metadata": {},
   "outputs": [
    {
     "name": "stderr",
     "output_type": "stream",
     "text": [
      "wandb: WARNING Using legacy-service, which is deprecated. If this is unintentional, you can fix it by ensuring you do not call `wandb.require('legacy-service')` and do not set the WANDB_X_REQUIRE_LEGACY_SERVICE environment variable.\n",
      "wandb: Appending key for api.wandb.ai to your netrc file: C:\\Users\\pv\\_netrc\n",
      "wandb: W&B API key is configured. Use `wandb login --relogin` to force relogin\n"
     ]
    }
   ],
   "source": [
    "# Login to Weights & Biases\n",
    "!wandb login --relogin $WANDB_API_KEY"
   ]
  },
  {
   "cell_type": "code",
   "execution_count": 9,
   "id": "3181a8e5",
   "metadata": {},
   "outputs": [],
   "source": [
    "# ratio used to split train and test data\n",
    "test_size = 0.20\n",
    "# seed used to reproduce purposes\n",
    "seed = 42\n",
    "# reference (column) to stratify the data\n",
    "stratify = \"512\"\n",
    "# name of the input artifact\n",
    "artifact_input_name = \"attendance_face_recognition/embedding_data.csv:latest\"\n",
    "# type of the artifact\n",
    "artifact_type = \"segregated_data\""
   ]
  },
  {
   "cell_type": "code",
   "execution_count": 6,
   "id": "6f598eb9",
   "metadata": {},
   "outputs": [
    {
     "data": {
      "text/html": [
       "Finishing previous runs because reinit is set to 'default'."
      ],
      "text/plain": [
       "<IPython.core.display.HTML object>"
      ]
     },
     "metadata": {},
     "output_type": "display_data"
    },
    {
     "name": "stderr",
     "output_type": "stream",
     "text": [
      "\u001b[34m\u001b[1mwandb\u001b[0m: \u001b[32m\u001b[41mERROR\u001b[0m The nbformat package was not found. It is required to save notebook history.\n"
     ]
    },
    {
     "data": {
      "text/html": [],
      "text/plain": [
       "<IPython.core.display.HTML object>"
      ]
     },
     "metadata": {},
     "output_type": "display_data"
    },
    {
     "data": {
      "text/html": [
       " View run <strong style=\"color:#cdcd00\">fresh-firefly-3</strong> at: <a href='https://wandb.ai/thanvinh164-vinh/attendance_face_recognition/runs/ve06hb6k' target=\"_blank\">https://wandb.ai/thanvinh164-vinh/attendance_face_recognition/runs/ve06hb6k</a><br> View project at: <a href='https://wandb.ai/thanvinh164-vinh/attendance_face_recognition' target=\"_blank\">https://wandb.ai/thanvinh164-vinh/attendance_face_recognition</a><br>Synced 5 W&B file(s), 0 media file(s), 0 artifact file(s) and 0 other file(s)"
      ],
      "text/plain": [
       "<IPython.core.display.HTML object>"
      ]
     },
     "metadata": {},
     "output_type": "display_data"
    },
    {
     "data": {
      "text/html": [
       "Find logs at: <code>.\\wandb\\run-20250428_225846-ve06hb6k\\logs</code>"
      ],
      "text/plain": [
       "<IPython.core.display.HTML object>"
      ]
     },
     "metadata": {},
     "output_type": "display_data"
    },
    {
     "data": {
      "text/html": [
       "Tracking run with wandb version 0.19.10"
      ],
      "text/plain": [
       "<IPython.core.display.HTML object>"
      ]
     },
     "metadata": {},
     "output_type": "display_data"
    },
    {
     "data": {
      "text/html": [
       "Run data is saved locally in <code>d:\\Documents\\Text Book\\3\\ML Ops\\Final Project\\Attendence_Checking_by_Facial_Recognition\\wandb\\run-20250428_230022-zoekwy2n</code>"
      ],
      "text/plain": [
       "<IPython.core.display.HTML object>"
      ]
     },
     "metadata": {},
     "output_type": "display_data"
    },
    {
     "data": {
      "text/html": [
       "Syncing run <strong><a href='https://wandb.ai/thanvinh164-vinh/attendance_face_recognition/runs/zoekwy2n' target=\"_blank\">feasible-wildflower-4</a></strong> to <a href='https://wandb.ai/thanvinh164-vinh/attendance_face_recognition' target=\"_blank\">Weights & Biases</a> (<a href='https://wandb.me/developer-guide' target=\"_blank\">docs</a>)<br>"
      ],
      "text/plain": [
       "<IPython.core.display.HTML object>"
      ]
     },
     "metadata": {},
     "output_type": "display_data"
    },
    {
     "data": {
      "text/html": [
       " View project at <a href='https://wandb.ai/thanvinh164-vinh/attendance_face_recognition' target=\"_blank\">https://wandb.ai/thanvinh164-vinh/attendance_face_recognition</a>"
      ],
      "text/plain": [
       "<IPython.core.display.HTML object>"
      ]
     },
     "metadata": {},
     "output_type": "display_data"
    },
    {
     "data": {
      "text/html": [
       " View run at <a href='https://wandb.ai/thanvinh164-vinh/attendance_face_recognition/runs/zoekwy2n' target=\"_blank\">https://wandb.ai/thanvinh164-vinh/attendance_face_recognition/runs/zoekwy2n</a>"
      ],
      "text/plain": [
       "<IPython.core.display.HTML object>"
      ]
     },
     "metadata": {},
     "output_type": "display_data"
    },
    {
     "name": "stderr",
     "output_type": "stream",
     "text": [
      "28-04-2025 23:00:25 Downloading and reading artifact\n",
      "\u001b[34m\u001b[1mwandb\u001b[0m:   1 of 1 files downloaded.  \n"
     ]
    }
   ],
   "source": [
    "# configure logging\n",
    "logging.basicConfig(level=logging.INFO,\n",
    "                    format=\"%(asctime)s %(message)s\",\n",
    "                    datefmt='%d-%m-%Y %H:%M:%S')\n",
    "\n",
    "# reference for a logging obj\n",
    "logger = logging.getLogger()\n",
    "\n",
    "# initiate wandb project\n",
    "run = wandb.init(project=\"attendance_face_recognition\", job_type=\"split_data\")\n",
    "\n",
    "logger.info(\"Downloading and reading artifact\")\n",
    "artifact = run.use_artifact(artifact_input_name)\n",
    "artifact_dir = artifact.download()  # Lưu toàn bộ files về local\n",
    "df = pd.read_csv(os.path.join(artifact_dir, \"embedding_data.csv\"))"
   ]
  },
  {
   "cell_type": "code",
   "execution_count": 10,
   "id": "16a32ab0",
   "metadata": {},
   "outputs": [
    {
     "name": "stderr",
     "output_type": "stream",
     "text": [
      "28-04-2025 23:06:53 Splitting data into train and test\n"
     ]
    },
    {
     "name": "stderr",
     "output_type": "stream",
     "text": [
      "28-04-2025 23:06:53 Uploading the train dataset to train.csv\n",
      "28-04-2025 23:06:54 Logging artifact\n",
      "28-04-2025 23:07:04 Uploading the test dataset to test.csv\n",
      "28-04-2025 23:07:04 Logging artifact\n"
     ]
    }
   ],
   "source": [
    "# Split firstly in train/test, then we further divide the dataset to train and validation\n",
    "logger.info(\"Splitting data into train and test\")\n",
    "splits = {}\n",
    "\n",
    "splits[\"train\"], splits[\"test\"] = train_test_split(df,\n",
    "                                                   test_size=test_size,\n",
    "                                                   random_state=seed,\n",
    "                                                   stratify=df[stratify])\n",
    "\n",
    "# Save the artifacts. We use a temporary directory so we do not leave any trace behind\n",
    "with tempfile.TemporaryDirectory() as tmp_dir:\n",
    "\n",
    "    for split, df in splits.items():\n",
    "\n",
    "        # Make the artifact name from the name of the split plus the provided root\n",
    "        artifact_name = f\"{split}.csv\"\n",
    "\n",
    "        # Get the path on disk within the temp directory\n",
    "        temp_path = os.path.join(tmp_dir, artifact_name)\n",
    "\n",
    "        logger.info(f\"Uploading the {split} dataset to {artifact_name}\")\n",
    "\n",
    "        # Save then upload to W&B\n",
    "        df.to_csv(temp_path,index=False)\n",
    "\n",
    "        artifact = wandb.Artifact(name=artifact_name,\n",
    "                                  type=artifact_type,\n",
    "                                  description=f\"{split} split of dataset {artifact_input_name}\",\n",
    "        )\n",
    "        artifact.add_file(temp_path)\n",
    "\n",
    "        logger.info(\"Logging artifact\")\n",
    "        run.log_artifact(artifact)\n",
    "\n",
    "        # This waits for the artifact to be uploaded to W&B. If you\n",
    "        # do not add this, the temp directory might be removed before\n",
    "        # W&B had a chance to upload the datasets, and the upload\n",
    "        # might fail\n",
    "        artifact.wait()"
   ]
  },
  {
   "cell_type": "code",
   "execution_count": 11,
   "id": "f1702b5b",
   "metadata": {},
   "outputs": [
    {
     "data": {
      "text/html": [],
      "text/plain": [
       "<IPython.core.display.HTML object>"
      ]
     },
     "metadata": {},
     "output_type": "display_data"
    },
    {
     "data": {
      "text/html": [
       " View run <strong style=\"color:#cdcd00\">feasible-wildflower-4</strong> at: <a href='https://wandb.ai/thanvinh164-vinh/attendance_face_recognition/runs/zoekwy2n' target=\"_blank\">https://wandb.ai/thanvinh164-vinh/attendance_face_recognition/runs/zoekwy2n</a><br> View project at: <a href='https://wandb.ai/thanvinh164-vinh/attendance_face_recognition' target=\"_blank\">https://wandb.ai/thanvinh164-vinh/attendance_face_recognition</a><br>Synced 5 W&B file(s), 0 media file(s), 4 artifact file(s) and 0 other file(s)"
      ],
      "text/plain": [
       "<IPython.core.display.HTML object>"
      ]
     },
     "metadata": {},
     "output_type": "display_data"
    },
    {
     "data": {
      "text/html": [
       "Find logs at: <code>.\\wandb\\run-20250428_230022-zoekwy2n\\logs</code>"
      ],
      "text/plain": [
       "<IPython.core.display.HTML object>"
      ]
     },
     "metadata": {},
     "output_type": "display_data"
    }
   ],
   "source": [
    "# close the run\n",
    "# waiting a while after run the previous cell before execute this\n",
    "run.finish()"
   ]
  }
 ],
 "metadata": {
  "kernelspec": {
   "display_name": "face_env",
   "language": "python",
   "name": "python3"
  },
  "language_info": {
   "codemirror_mode": {
    "name": "ipython",
    "version": 3
   },
   "file_extension": ".py",
   "mimetype": "text/x-python",
   "name": "python",
   "nbconvert_exporter": "python",
   "pygments_lexer": "ipython3",
   "version": "3.10.16"
  }
 },
 "nbformat": 4,
 "nbformat_minor": 5
}
