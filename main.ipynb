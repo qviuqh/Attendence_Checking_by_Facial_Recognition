{
 "cells": [
  {
   "cell_type": "code",
   "execution_count": null,
   "id": "3519538e",
   "metadata": {},
   "outputs": [],
   "source": [
    "# Đặt thông số\n",
    "video_dir = r\"C:\\Users\\PC\\Downloads\\mlops-diem-danh\\videos\"  # Thư mục chứa video\n",
    "output_dir = r\"C:\\Users\\PC\\Downloads\\mlops-diem-danh\\pictures\"  # Thư mục lưu ảnh\n",
    "fps = 30  # Tốc độ khung hình (30 FPS)\n",
    "duration = 15  # Thời gian giới hạn (15 giây)\n",
    "total_frames = fps * duration "
   ]
  }
 ],
 "metadata": {
  "language_info": {
   "name": "python"
  }
 },
 "nbformat": 4,
 "nbformat_minor": 5
}
