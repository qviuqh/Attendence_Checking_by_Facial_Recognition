{
 "cells": [
  {
   "cell_type": "code",
   "execution_count": 32,
   "id": "84af8a57",
   "metadata": {},
   "outputs": [],
   "source": [
    "from src import preprocessing as prep\n",
    "from src import feature_engineering as fe\n",
    "import cv2"
   ]
  },
  {
   "cell_type": "code",
   "execution_count": 33,
   "id": "3519538e",
   "metadata": {},
   "outputs": [],
   "source": [
    "# Đặt thông số\n",
    "video_dir = r\"data\\videos\"  # Thư mục chứa video\n",
    "output_dir = r\"data\\pictures\"  # Thư mục lưu ảnh\n",
    "fps = 30  # Tốc độ khung hình (30 FPS)\n",
    "duration = 15  # Thời gian giới hạn (15 giây)"
   ]
  },
  {
   "cell_type": "code",
   "execution_count": 34,
   "id": "3fb1f819",
   "metadata": {},
   "outputs": [
    {
     "name": "stdout",
     "output_type": "stream",
     "text": [
      "Đang xử lý video data\\videos\\11222333.MOV (FPS gốc: 29.99771706871623)\n",
      "Đã trích xuất 450 khung hình từ data\\videos\\11222333.MOV, lưu tại data\\pictures\\11222333\n",
      "Đang xử lý video data\\videos\\11225430.MOV (FPS gốc: 29.997619236568525)\n",
      "Đã trích xuất 450 khung hình từ data\\videos\\11225430.MOV, lưu tại data\\pictures\\11225430\n",
      "Đang xử lý video data\\videos\\11226754.MOV (FPS gốc: 29.997674598868304)\n",
      "Đã trích xuất 450 khung hình từ data\\videos\\11226754.MOV, lưu tại data\\pictures\\11226754\n",
      "Đang xử lý video data\\videos\\11226767.MOV (FPS gốc: 29.99777464579779)\n",
      "Đã trích xuất 450 khung hình từ data\\videos\\11226767.MOV, lưu tại data\\pictures\\11226767\n",
      "Đang xử lý video data\\videos\\11226938.MOV (FPS gốc: 29.9975963464466)\n",
      "Đã trích xuất 450 khung hình từ data\\videos\\11226938.MOV, lưu tại data\\pictures\\11226938\n",
      "Hoàn tất xử lý tất cả video.\n"
     ]
    }
   ],
   "source": [
    "prep_data = prep.Vid2Img(video_dir, output_dir, fps, duration)\n",
    "prep_data.video_to_frames()"
   ]
  },
  {
   "cell_type": "code",
   "execution_count": 16,
   "id": "85bfe42c",
   "metadata": {},
   "outputs": [
    {
     "name": "stdout",
     "output_type": "stream",
     "text": [
      "1/1 [==============================] - 0s 52ms/step\n"
     ]
    }
   ],
   "source": [
    "face_cascade = cv2.CascadeClassifier(cv2.data.haarcascades + \"haarcascade_frontalface_default.xml\")\n",
    "\n",
    "def detect_face(img):\n",
    "    \"\"\"Detects faces in an image using Haar Cascade classifier.\n",
    "    This function takes an image as input and returns the coordinates of detected faces.\n",
    "    Args:\n",
    "        img (_type_): Ảnh chứa khuôn mặt cần phát hiện.\n",
    "    Returns:\n",
    "        List: Chứa các tọa độ của khuôn mặt được phát hiện trong định dạng (x, y, w, h).\n",
    "    \"\"\"\n",
    "    gray = cv2.cvtColor(img, cv2.COLOR_BGR2GRAY)\n",
    "    faces = face_cascade.detectMultiScale(gray, scaleFactor=1.1, minNeighbors=5)\n",
    "    return faces  # List of (x, y, w, h)\n",
    "\n",
    "def crop_and_preprocess_face(img, face):\n",
    "    \"\"\"_summary_\n",
    "    Args:\n",
    "        img (.jpeg): Ảnh gốc ban đầu.\n",
    "        face (List): Tọa độ khuôn mặt GẦN NHẤT được phát hiện trong định dạng (x, y, w, h).\n",
    "    Returns:\n",
    "        img (.jpeg): Ảnh khuôn mặt đã được cắt và tiền xử lý.\n",
    "    \"\"\"\n",
    "    x, y, w, h = face\n",
    "    face_img = img[y:y+h, x:x+w]\n",
    "    face_img = cv2.resize(face_img, (160, 160))  # chuẩn cho model như FaceNet\n",
    "    face_img = face_img.astype('float32') / 255.0  # normalize\n",
    "    return face_img\n",
    "\n",
    "img = cv2.imread(\"data/pictures/11222333/frame_0418.jpg\")\n",
    "\n",
    "face = detect_face(img)\n",
    "# Lấy khuôn mặt có kích thước ảnh lớn nhất\n",
    "largest_face = max(face, key=lambda f: f[2] * f[3])  # Tìm khuôn mặt có diện tích lớn nhất\n",
    "face_img = crop_and_preprocess_face(img, largest_face)\n",
    "\n",
    "vec = fe.extract_embedding(face_img)"
   ]
  },
  {
   "cell_type": "code",
   "execution_count": 17,
   "id": "7ea60674",
   "metadata": {},
   "outputs": [
    {
     "data": {
      "text/plain": [
       "(512,)"
      ]
     },
     "execution_count": 17,
     "metadata": {},
     "output_type": "execute_result"
    }
   ],
   "source": [
    "vec.shape"
   ]
  }
 ],
 "metadata": {
  "kernelspec": {
   "display_name": "face_env",
   "language": "python",
   "name": "python3"
  },
  "language_info": {
   "codemirror_mode": {
    "name": "ipython",
    "version": 3
   },
   "file_extension": ".py",
   "mimetype": "text/x-python",
   "name": "python",
   "nbconvert_exporter": "python",
   "pygments_lexer": "ipython3",
   "version": "3.10.16"
  }
 },
 "nbformat": 4,
 "nbformat_minor": 5
}
