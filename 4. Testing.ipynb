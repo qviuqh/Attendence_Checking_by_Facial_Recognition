{
 "cells": [
  {
   "cell_type": "code",
   "execution_count": 12,
   "id": "f3ca1c62",
   "metadata": {},
   "outputs": [],
   "source": [
    "import logging\n",
    "import pandas as pd\n",
    "import wandb\n",
    "import joblib\n",
    "from sklearn.metrics import accuracy_score\n",
    "from sklearn.metrics import classification_report"
   ]
  },
  {
   "cell_type": "code",
   "execution_count": 2,
   "id": "7015c398",
   "metadata": {},
   "outputs": [],
   "source": [
    "import os\n",
    "from dotenv import load_dotenv\n",
    "load_dotenv()\n",
    "\n",
    "WANDB_API_KEY=os.environ.get('WANDB_API_KEY')"
   ]
  },
  {
   "cell_type": "code",
   "execution_count": 3,
   "id": "6ea7c158",
   "metadata": {},
   "outputs": [
    {
     "name": "stderr",
     "output_type": "stream",
     "text": [
      "wandb: WARNING Using legacy-service, which is deprecated. If this is unintentional, you can fix it by ensuring you do not call `wandb.require('legacy-service')` and do not set the WANDB_X_REQUIRE_LEGACY_SERVICE environment variable.\n",
      "wandb: Appending key for api.wandb.ai to your netrc file: C:\\Users\\pv\\_netrc\n",
      "wandb: W&B API key is configured. Use `wandb login --relogin` to force relogin\n"
     ]
    }
   ],
   "source": [
    "# Login to Weights & Biases\n",
    "!wandb login --relogin $WANDB_API_KEY"
   ]
  },
  {
   "cell_type": "code",
   "execution_count": 4,
   "id": "166e892f",
   "metadata": {},
   "outputs": [],
   "source": [
    "# name of the artifact related to test dataset\n",
    "artifact_test_name = \"attendance_face_recognition/test.csv:latest\"\n",
    "# name of the model artifact\n",
    "artifact_model_name = \"attendance_face_recognition/model_export:latest\""
   ]
  },
  {
   "cell_type": "code",
   "execution_count": 5,
   "id": "8661a08c",
   "metadata": {},
   "outputs": [],
   "source": [
    "# configure logging\n",
    "logging.basicConfig(level=logging.INFO,\n",
    "                    format=\"%(asctime)s %(message)s\",\n",
    "                    datefmt='%d-%m-%Y %H:%M:%S')\n",
    "\n",
    "# reference for a logging obj\n",
    "logger = logging.getLogger()"
   ]
  },
  {
   "cell_type": "code",
   "execution_count": 6,
   "id": "f223045a",
   "metadata": {},
   "outputs": [
    {
     "name": "stderr",
     "output_type": "stream",
     "text": [
      "\u001b[34m\u001b[1mwandb\u001b[0m: Currently logged in as: \u001b[33mthanvinh164\u001b[0m (\u001b[33mthanvinh164-vinh\u001b[0m) to \u001b[32mhttps://api.wandb.ai\u001b[0m. Use \u001b[1m`wandb login --relogin`\u001b[0m to force relogin\n"
     ]
    },
    {
     "data": {
      "text/html": [
       "creating run (0.5s)"
      ],
      "text/plain": [
       "<IPython.core.display.HTML object>"
      ]
     },
     "metadata": {},
     "output_type": "display_data"
    },
    {
     "data": {
      "text/html": [
       "Tracking run with wandb version 0.19.10"
      ],
      "text/plain": [
       "<IPython.core.display.HTML object>"
      ]
     },
     "metadata": {},
     "output_type": "display_data"
    },
    {
     "data": {
      "text/html": [
       "Run data is saved locally in <code>d:\\Documents\\Text Book\\3\\ML Ops\\Final Project\\Attendence_Checking_by_Facial_Recognition\\wandb\\run-20250429_234947-6z3i85xr</code>"
      ],
      "text/plain": [
       "<IPython.core.display.HTML object>"
      ]
     },
     "metadata": {},
     "output_type": "display_data"
    },
    {
     "data": {
      "text/html": [
       "Syncing run <strong><a href='https://wandb.ai/thanvinh164-vinh/attendance_face_recognition/runs/6z3i85xr' target=\"_blank\">peach-monkey-413</a></strong> to <a href='https://wandb.ai/thanvinh164-vinh/attendance_face_recognition' target=\"_blank\">Weights & Biases</a> (<a href='https://wandb.me/developer-guide' target=\"_blank\">docs</a>)<br>"
      ],
      "text/plain": [
       "<IPython.core.display.HTML object>"
      ]
     },
     "metadata": {},
     "output_type": "display_data"
    },
    {
     "data": {
      "text/html": [
       " View project at <a href='https://wandb.ai/thanvinh164-vinh/attendance_face_recognition' target=\"_blank\">https://wandb.ai/thanvinh164-vinh/attendance_face_recognition</a>"
      ],
      "text/plain": [
       "<IPython.core.display.HTML object>"
      ]
     },
     "metadata": {},
     "output_type": "display_data"
    },
    {
     "data": {
      "text/html": [
       " View run at <a href='https://wandb.ai/thanvinh164-vinh/attendance_face_recognition/runs/6z3i85xr' target=\"_blank\">https://wandb.ai/thanvinh164-vinh/attendance_face_recognition/runs/6z3i85xr</a>"
      ],
      "text/plain": [
       "<IPython.core.display.HTML object>"
      ]
     },
     "metadata": {},
     "output_type": "display_data"
    }
   ],
   "source": [
    "# initiate the wandb project\n",
    "run = wandb.init(project=\"attendance_face_recognition\",job_type=\"test\")"
   ]
  },
  {
   "cell_type": "code",
   "execution_count": 7,
   "id": "defd2795",
   "metadata": {},
   "outputs": [
    {
     "name": "stderr",
     "output_type": "stream",
     "text": [
      "29-04-2025 23:53:03 Downloading and reading test artifact\n",
      "\u001b[34m\u001b[1mwandb\u001b[0m:   1 of 1 files downloaded.  \n",
      "29-04-2025 23:53:11 Extracting target from dataframe\n"
     ]
    }
   ],
   "source": [
    "logger.info(\"Downloading and reading test artifact\")\n",
    "artifact = run.use_artifact(artifact_test_name)\n",
    "test_data_path = artifact.download()  # Lưu toàn bộ files về local\n",
    "df_test = pd.read_csv(os.path.join(test_data_path, \"test.csv\"))\n",
    "\n",
    "# Extract the target from the features\n",
    "logger.info(\"Extracting target from dataframe\")\n",
    "x_test = df_test.copy()\n",
    "y_test = x_test.pop(\"512\")"
   ]
  },
  {
   "cell_type": "code",
   "execution_count": 11,
   "id": "6d711da3",
   "metadata": {},
   "outputs": [
    {
     "name": "stderr",
     "output_type": "stream",
     "text": [
      "30-04-2025 00:07:51 Downloading and load the exported model\n",
      "\u001b[34m\u001b[1mwandb\u001b[0m:   1 of 1 files downloaded.  \n"
     ]
    }
   ],
   "source": [
    "# Download inference artifact\n",
    "logger.info(\"Downloading and load the exported model\")\n",
    "model_export_path = run.use_artifact(artifact_model_name).download()\n",
    "model = joblib.load(os.path.join(model_export_path, \"model_export\"))"
   ]
  },
  {
   "cell_type": "code",
   "execution_count": 13,
   "id": "acd2a787",
   "metadata": {},
   "outputs": [
    {
     "name": "stderr",
     "output_type": "stream",
     "text": [
      "30-04-2025 00:09:25 Infering\n",
      "30-04-2025 00:09:25 Test Evaluation metrics\n",
      "30-04-2025 00:09:25 Test Accuracy: 0.9918032786885246\n"
     ]
    }
   ],
   "source": [
    "# predict\n",
    "logger.info(\"Infering\")\n",
    "predict = model.predict(x_test)\n",
    "\n",
    "# Evaluation Metrics\n",
    "logger.info(\"Test Evaluation metrics\")\n",
    "acc = accuracy_score(y_test, predict)\n",
    "\n",
    "logger.info(\"Test Accuracy: {}\".format(acc))\n",
    "\n",
    "run.summary[\"Acc\"] = acc"
   ]
  },
  {
   "cell_type": "code",
   "execution_count": 14,
   "id": "08c4ce93",
   "metadata": {},
   "outputs": [
    {
     "name": "stdout",
     "output_type": "stream",
     "text": [
      "              precision    recall  f1-score   support\n",
      "\n",
      "    11222333       1.00      1.00      1.00        25\n",
      "    11225430       1.00      0.96      0.98        25\n",
      "    11226754       0.96      1.00      0.98        25\n",
      "    11226767       1.00      1.00      1.00        22\n",
      "    11226938       1.00      1.00      1.00        25\n",
      "\n",
      "    accuracy                           0.99       122\n",
      "   macro avg       0.99      0.99      0.99       122\n",
      "weighted avg       0.99      0.99      0.99       122\n",
      "\n"
     ]
    }
   ],
   "source": [
    "print(classification_report(y_test,predict))"
   ]
  },
  {
   "cell_type": "code",
   "execution_count": 15,
   "id": "0148eb19",
   "metadata": {},
   "outputs": [
    {
     "name": "stderr",
     "output_type": "stream",
     "text": [
      "\u001b[34m\u001b[1mwandb\u001b[0m: \u001b[32m\u001b[41mERROR\u001b[0m The nbformat package was not found. It is required to save notebook history.\n"
     ]
    },
    {
     "data": {
      "text/html": [],
      "text/plain": [
       "<IPython.core.display.HTML object>"
      ]
     },
     "metadata": {},
     "output_type": "display_data"
    },
    {
     "data": {
      "text/html": [
       "<br>    <style><br>        .wandb-row {<br>            display: flex;<br>            flex-direction: row;<br>            flex-wrap: wrap;<br>            justify-content: flex-start;<br>            width: 100%;<br>        }<br>        .wandb-col {<br>            display: flex;<br>            flex-direction: column;<br>            flex-basis: 100%;<br>            flex: 1;<br>            padding: 10px;<br>        }<br>    </style><br><div class=\"wandb-row\"><div class=\"wandb-col\"><h3>Run summary:</h3><br/><table class=\"wandb\"><tr><td>Acc</td><td>0.9918</td></tr></table><br/></div></div>"
      ],
      "text/plain": [
       "<IPython.core.display.HTML object>"
      ]
     },
     "metadata": {},
     "output_type": "display_data"
    },
    {
     "data": {
      "text/html": [
       " View run <strong style=\"color:#cdcd00\">peach-monkey-413</strong> at: <a href='https://wandb.ai/thanvinh164-vinh/attendance_face_recognition/runs/6z3i85xr' target=\"_blank\">https://wandb.ai/thanvinh164-vinh/attendance_face_recognition/runs/6z3i85xr</a><br> View project at: <a href='https://wandb.ai/thanvinh164-vinh/attendance_face_recognition' target=\"_blank\">https://wandb.ai/thanvinh164-vinh/attendance_face_recognition</a><br>Synced 5 W&B file(s), 0 media file(s), 0 artifact file(s) and 0 other file(s)"
      ],
      "text/plain": [
       "<IPython.core.display.HTML object>"
      ]
     },
     "metadata": {},
     "output_type": "display_data"
    },
    {
     "data": {
      "text/html": [
       "Find logs at: <code>.\\wandb\\run-20250429_234947-6z3i85xr\\logs</code>"
      ],
      "text/plain": [
       "<IPython.core.display.HTML object>"
      ]
     },
     "metadata": {},
     "output_type": "display_data"
    }
   ],
   "source": [
    "run.finish()"
   ]
  }
 ],
 "metadata": {
  "kernelspec": {
   "display_name": "face_env",
   "language": "python",
   "name": "python3"
  },
  "language_info": {
   "codemirror_mode": {
    "name": "ipython",
    "version": 3
   },
   "file_extension": ".py",
   "mimetype": "text/x-python",
   "name": "python",
   "nbconvert_exporter": "python",
   "pygments_lexer": "ipython3",
   "version": "3.10.16"
  }
 },
 "nbformat": 4,
 "nbformat_minor": 5
}
